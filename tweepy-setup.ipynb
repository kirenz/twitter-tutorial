{
 "cells": [
  {
   "cell_type": "markdown",
   "metadata": {
    "slideshow": {
     "slide_type": "slide"
    }
   },
   "source": [
    "# Make a connection to Twitter with Tweepy"
   ]
  },
  {
   "cell_type": "markdown",
   "metadata": {},
   "source": [
    "Save this file in a new folder called \"twitter\""
   ]
  },
  {
   "cell_type": "markdown",
   "metadata": {
    "slideshow": {
     "slide_type": "slide"
    }
   },
   "source": [
    "## Setup"
   ]
  },
  {
   "cell_type": "code",
   "execution_count": 1,
   "metadata": {
    "slideshow": {
     "slide_type": "fragment"
    }
   },
   "outputs": [],
   "source": [
    "import tweepy"
   ]
  },
  {
   "cell_type": "markdown",
   "metadata": {
    "slideshow": {
     "slide_type": "slide"
    }
   },
   "source": [
    "## Make a connection with API v2\n",
    "\n",
    "Next, we import the keys and use them in the function [tweepy.Client](https://docs.tweepy.org/en/stable/client.html):"
   ]
  },
  {
   "cell_type": "code",
   "execution_count": 2,
   "metadata": {
    "slideshow": {
     "slide_type": "fragment"
    }
   },
   "outputs": [],
   "source": [
    "from keys import *"
   ]
  },
  {
   "cell_type": "code",
   "execution_count": 3,
   "metadata": {},
   "outputs": [
    {
     "data": {
      "text/plain": [
       "'AAAAAAAAAAAAAAAAAAAAAFKFWgEAAAAAKNLO5jDuL6V8gL%2BtoHahQVMmxQM%3DPt1llDsGUqyWlXhGUaY6sBYTaUbnN3PXXyM4OoKpfQQyoiQkgA'"
      ]
     },
     "execution_count": 3,
     "metadata": {},
     "output_type": "execute_result"
    }
   ],
   "source": [
    "bearer_token"
   ]
  },
  {
   "cell_type": "code",
   "execution_count": 4,
   "metadata": {
    "slideshow": {
     "slide_type": "fragment"
    }
   },
   "outputs": [],
   "source": [
    "import requests\n",
    "\n",
    "client = tweepy.Client( bearer_token=bearer_token, \n",
    "                        consumer_key=consumer_key, \n",
    "                        consumer_secret=consumer_secret, \n",
    "                        access_token=access_token, \n",
    "                        access_token_secret=access_token_secret, \n",
    "                        return_type = requests.Response,\n",
    "                        wait_on_rate_limit=True)"
   ]
  },
  {
   "cell_type": "code",
   "execution_count": 26,
   "metadata": {},
   "outputs": [
    {
     "data": {
      "text/plain": [
       "<tweepy.client.Client at 0x116638a00>"
      ]
     },
     "execution_count": 26,
     "metadata": {},
     "output_type": "execute_result"
    }
   ],
   "source": [
    "client"
   ]
  },
  {
   "cell_type": "markdown",
   "metadata": {
    "slideshow": {
     "slide_type": "slide"
    }
   },
   "source": [
    "## Make a query"
   ]
  },
  {
   "cell_type": "markdown",
   "metadata": {
    "slideshow": {
     "slide_type": "fragment"
    }
   },
   "source": [
    "- Let's search Tweets from Barack Obama's Twitter account (@BarackObama) from the last 7 days ([`search_recent_tweets`](https://developer.twitter.com/en/docs/twitter-api/tweets/search/api-reference/get-tweets-search-recent)). \n",
    "\n",
    "- We exclude Retweets and limit the result to a maximum of 100 Tweets. \n",
    "\n",
    "- We also include some additional information with `tweet_fields` (author id and when the Tweet was created)."
   ]
  },
  {
   "cell_type": "code",
   "execution_count": 5,
   "metadata": {
    "slideshow": {
     "slide_type": "slide"
    }
   },
   "outputs": [],
   "source": [
    "# Define query\n",
    "query = 'from:BarackObama -is:retweet'\n",
    "\n",
    "# get max. 100 tweets\n",
    "tweets = client.search_recent_tweets(query=query, \n",
    "                                    tweet_fields=['author_id', 'created_at'],\n",
    "                                     max_results=100)"
   ]
  },
  {
   "cell_type": "markdown",
   "metadata": {
    "slideshow": {
     "slide_type": "slide"
    }
   },
   "source": [
    "## Convert to pandas Dataframe\n",
    "\n",
    "Finally, we convert the data to a pandas Dataframe. "
   ]
  },
  {
   "cell_type": "code",
   "execution_count": 6,
   "metadata": {
    "slideshow": {
     "slide_type": "slide"
    }
   },
   "outputs": [],
   "source": [
    "import pandas as pd\n",
    "\n",
    "# Save data as dictionary\n",
    "tweets_dict = tweets.json() \n",
    "\n",
    "# Extract \"data\" value from dictionary\n",
    "tweets_data = tweets_dict['data'] \n",
    "\n",
    "# Transform to pandas Dataframe\n",
    "df = pd.json_normalize(tweets_data) \n"
   ]
  },
  {
   "cell_type": "code",
   "execution_count": 7,
   "metadata": {
    "slideshow": {
     "slide_type": "slide"
    }
   },
   "outputs": [
    {
     "data": {
      "text/html": [
       "<div>\n",
       "<style scoped>\n",
       "    .dataframe tbody tr th:only-of-type {\n",
       "        vertical-align: middle;\n",
       "    }\n",
       "\n",
       "    .dataframe tbody tr th {\n",
       "        vertical-align: top;\n",
       "    }\n",
       "\n",
       "    .dataframe thead th {\n",
       "        text-align: right;\n",
       "    }\n",
       "</style>\n",
       "<table border=\"1\" class=\"dataframe\">\n",
       "  <thead>\n",
       "    <tr style=\"text-align: right;\">\n",
       "      <th></th>\n",
       "      <th>id</th>\n",
       "      <th>author_id</th>\n",
       "      <th>text</th>\n",
       "      <th>created_at</th>\n",
       "      <th>edit_history_tweet_ids</th>\n",
       "    </tr>\n",
       "  </thead>\n",
       "  <tbody>\n",
       "    <tr>\n",
       "      <th>0</th>\n",
       "      <td>1580748146678042625</td>\n",
       "      <td>813286</td>\n",
       "      <td>It was great speaking with Imani and Austin, t...</td>\n",
       "      <td>2022-10-14T02:31:41.000Z</td>\n",
       "      <td>[1580748146678042625]</td>\n",
       "    </tr>\n",
       "    <tr>\n",
       "      <th>1</th>\n",
       "      <td>1580599805167796226</td>\n",
       "      <td>813286</td>\n",
       "      <td>Congrats to @JHUAPL on confirming we successfu...</td>\n",
       "      <td>2022-10-13T16:42:14.000Z</td>\n",
       "      <td>[1580599805167796226]</td>\n",
       "    </tr>\n",
       "    <tr>\n",
       "      <th>2</th>\n",
       "      <td>1579887173578285057</td>\n",
       "      <td>813286</td>\n",
       "      <td>On this International Day of the Girl, we stan...</td>\n",
       "      <td>2022-10-11T17:30:29.000Z</td>\n",
       "      <td>[1579887173578285057]</td>\n",
       "    </tr>\n",
       "    <tr>\n",
       "      <th>3</th>\n",
       "      <td>1579517362591539204</td>\n",
       "      <td>813286</td>\n",
       "      <td>Her commitment to supporting and training the ...</td>\n",
       "      <td>2022-10-10T17:00:59.000Z</td>\n",
       "      <td>[1579517362591539204]</td>\n",
       "    </tr>\n",
       "    <tr>\n",
       "      <th>4</th>\n",
       "      <td>1579517359169343488</td>\n",
       "      <td>813286</td>\n",
       "      <td>As we honor the many contributions of Indigeno...</td>\n",
       "      <td>2022-10-10T17:00:59.000Z</td>\n",
       "      <td>[1579517359169343488]</td>\n",
       "    </tr>\n",
       "    <tr>\n",
       "      <th>5</th>\n",
       "      <td>1579468144246411267</td>\n",
       "      <td>813286</td>\n",
       "      <td>This November, I’ll be joining @ObamaFoundatio...</td>\n",
       "      <td>2022-10-10T13:45:25.000Z</td>\n",
       "      <td>[1579468144246411267]</td>\n",
       "    </tr>\n",
       "    <tr>\n",
       "      <th>6</th>\n",
       "      <td>1579468142870663168</td>\n",
       "      <td>813286</td>\n",
       "      <td>At a time when democracy is under threat aroun...</td>\n",
       "      <td>2022-10-10T13:45:25.000Z</td>\n",
       "      <td>[1579468142870663168]</td>\n",
       "    </tr>\n",
       "  </tbody>\n",
       "</table>\n",
       "</div>"
      ],
      "text/plain": [
       "                    id author_id  \\\n",
       "0  1580748146678042625    813286   \n",
       "1  1580599805167796226    813286   \n",
       "2  1579887173578285057    813286   \n",
       "3  1579517362591539204    813286   \n",
       "4  1579517359169343488    813286   \n",
       "5  1579468144246411267    813286   \n",
       "6  1579468142870663168    813286   \n",
       "\n",
       "                                                text  \\\n",
       "0  It was great speaking with Imani and Austin, t...   \n",
       "1  Congrats to @JHUAPL on confirming we successfu...   \n",
       "2  On this International Day of the Girl, we stan...   \n",
       "3  Her commitment to supporting and training the ...   \n",
       "4  As we honor the many contributions of Indigeno...   \n",
       "5  This November, I’ll be joining @ObamaFoundatio...   \n",
       "6  At a time when democracy is under threat aroun...   \n",
       "\n",
       "                 created_at edit_history_tweet_ids  \n",
       "0  2022-10-14T02:31:41.000Z  [1580748146678042625]  \n",
       "1  2022-10-13T16:42:14.000Z  [1580599805167796226]  \n",
       "2  2022-10-11T17:30:29.000Z  [1579887173578285057]  \n",
       "3  2022-10-10T17:00:59.000Z  [1579517362591539204]  \n",
       "4  2022-10-10T17:00:59.000Z  [1579517359169343488]  \n",
       "5  2022-10-10T13:45:25.000Z  [1579468144246411267]  \n",
       "6  2022-10-10T13:45:25.000Z  [1579468142870663168]  "
      ]
     },
     "execution_count": 7,
     "metadata": {},
     "output_type": "execute_result"
    }
   ],
   "source": [
    "df"
   ]
  },
  {
   "cell_type": "code",
   "execution_count": 8,
   "metadata": {
    "slideshow": {
     "slide_type": "slide"
    }
   },
   "outputs": [],
   "source": [
    "# save df in our folder\n",
    "df.to_csv(\"tweets-obama.csv\")"
   ]
  }
 ],
 "metadata": {
  "celltoolbar": "Slideshow",
  "kernelspec": {
   "display_name": "Python 3.9.13 ('twitter')",
   "language": "python",
   "name": "python3"
  },
  "language_info": {
   "codemirror_mode": {
    "name": "ipython",
    "version": 3
   },
   "file_extension": ".py",
   "mimetype": "text/x-python",
   "name": "python",
   "nbconvert_exporter": "python",
   "pygments_lexer": "ipython3",
   "version": "3.9.13"
  },
  "varInspector": {
   "cols": {
    "lenName": 16,
    "lenType": 16,
    "lenVar": 40
   },
   "kernels_config": {
    "python": {
     "delete_cmd_postfix": "",
     "delete_cmd_prefix": "del ",
     "library": "var_list.py",
     "varRefreshCmd": "print(var_dic_list())"
    },
    "r": {
     "delete_cmd_postfix": ") ",
     "delete_cmd_prefix": "rm(",
     "library": "var_list.r",
     "varRefreshCmd": "cat(var_dic_list()) "
    }
   },
   "types_to_exclude": [
    "module",
    "function",
    "builtin_function_or_method",
    "instance",
    "_Feature"
   ],
   "window_display": false
  },
  "vscode": {
   "interpreter": {
    "hash": "c296f5ba411204996712c28dc8cda255f81ac367e470d8f4c614ba41bcf241d0"
   }
  }
 },
 "nbformat": 4,
 "nbformat_minor": 2
}
